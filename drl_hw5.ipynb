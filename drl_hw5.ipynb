{
  "nbformat": 4,
  "nbformat_minor": 0,
  "metadata": {
    "colab": {
      "name": "「LunarLander_in_Colaboratory_ipynb」的副本.ipynb",
      "private_outputs": true,
      "provenance": [],
      "collapsed_sections": [],
      "include_colab_link": true
    },
    "kernelspec": {
      "name": "python3",
      "display_name": "Python 3"
    },
    "accelerator": "GPU",
    "gpuClass": "standard"
  },
  "cells": [
    {
      "cell_type": "markdown",
      "metadata": {
        "id": "view-in-github",
        "colab_type": "text"
      },
      "source": [
        "<a href=\"https://colab.research.google.com/github/Hargen1/DRL_2022/blob/main/drl_hw5.ipynb\" target=\"_parent\"><img src=\"https://colab.research.google.com/assets/colab-badge.svg\" alt=\"Open In Colab\"/></a>"
      ]
    },
    {
      "cell_type": "markdown",
      "metadata": {
        "id": "SsRAs0r2LM4F"
      },
      "source": [
        "# **掛載雲端硬碟**"
      ]
    },
    {
      "cell_type": "code",
      "metadata": {
        "id": "_Palgjg3BtPF"
      },
      "source": [
        "from google.colab import drive\n",
        "drive.mount('/content/drive')"
      ],
      "execution_count": null,
      "outputs": []
    },
    {
      "cell_type": "markdown",
      "metadata": {
        "id": "FXrloB99LV00"
      },
      "source": [
        "# **安裝相關套件**"
      ]
    },
    {
      "cell_type": "code",
      "metadata": {
        "id": "8-AxnvAVyzQQ"
      },
      "source": [
        "#remove \" > /dev/null 2>&1\" to see what is going on under the hood\n",
        "!pip install gym pyvirtualdisplay > /dev/null 2>&1\n",
        "!apt-get install -y xvfb python-opengl ffmpeg > /dev/null 2>&1"
      ],
      "execution_count": null,
      "outputs": []
    },
    {
      "cell_type": "code",
      "metadata": {
        "id": "d2CE3TOS1ij3"
      },
      "source": [
        "!pip install stable_baselines3 gym box2d-py tensorflow-gpu #使用gym box2d"
      ],
      "execution_count": null,
      "outputs": []
    },
    {
      "cell_type": "markdown",
      "metadata": {
        "id": "APXSx7hg19TH"
      },
      "source": [
        "# Imports and Helper functions\n"
      ]
    },
    {
      "cell_type": "code",
      "metadata": {
        "id": "pdb2JwZy4jGj"
      },
      "source": [
        "import gym\n",
        "from gym import logger as gymlogger\n",
        "from gym.wrappers import Monitor\n",
        "gymlogger.set_level(40) #error only\n",
        "import tensorflow as tf\n",
        "import numpy as np\n",
        "import random\n",
        "import matplotlib\n",
        "import matplotlib.pyplot as plt\n",
        "%matplotlib inline\n",
        "import math\n",
        "import glob\n",
        "import io\n",
        "import base64\n",
        "from IPython.display import HTML\n",
        "\n",
        "from IPython import display as ipythondisplay"
      ],
      "execution_count": null,
      "outputs": []
    },
    {
      "cell_type": "code",
      "metadata": {
        "id": "nQEtc28G4niA"
      },
      "source": [
        "from pyvirtualdisplay import Display\n",
        "display = Display(visible=0, size=(1400, 900))\n",
        "display.start()"
      ],
      "execution_count": null,
      "outputs": []
    },
    {
      "cell_type": "code",
      "metadata": {
        "id": "3Vg5Iing2oXX"
      },
      "source": [
        "from stable_baselines3 import DQN\n",
        "from stable_baselines3.common.vec_env import DummyVecEnv\n",
        "from stable_baselines3.common.evaluation import evaluate_policy"
      ],
      "execution_count": null,
      "outputs": []
    },
    {
      "cell_type": "code",
      "metadata": {
        "id": "G9UWeToN4r7D"
      },
      "source": [
        "\"\"\"\n",
        "Utility functions to enable video recording of gym environment and displaying it\n",
        "To enable video, just do \"env = wrap_env(env)\"\"\n",
        "\"\"\"\n",
        "game = \"Acrobot-v1\" #遊戲種類\n",
        "def show_video(): #顯示訓練結果\n",
        "  mp4list = glob.glob('video/*.mp4')\n",
        "  if len(mp4list) > 0:\n",
        "    mp4 = mp4list[0]\n",
        "    video = io.open(mp4, 'r+b').read() #以影片形式撥放\n",
        "    encoded = base64.b64encode(video)\n",
        "    ipythondisplay.display(HTML(data='''<video alt=\"test\" autoplay \n",
        "                loop controls style=\"height: 400px;\">\n",
        "                <source src=\"data:video/mp4;base64,{0}\" type=\"video/mp4\" />\n",
        "             </video>'''.format(encoded.decode('ascii'))))\n",
        "  else: \n",
        "    print(\"Could not find video\")\n",
        "    \n",
        "\n",
        "def wrap_env(env):\n",
        "  env = Monitor(env, './video', force=True)\n",
        "  return env"
      ],
      "execution_count": null,
      "outputs": []
    },
    {
      "cell_type": "code",
      "metadata": {
        "id": "dGEFMfDOzLen"
      },
      "source": [
        "env = wrap_env(gym.make(game))"
      ],
      "execution_count": null,
      "outputs": []
    },
    {
      "cell_type": "code",
      "metadata": {
        "id": "7BmIlXhe9Q89"
      },
      "source": [
        "print(env.action_space) #action space"
      ],
      "execution_count": null,
      "outputs": []
    },
    {
      "cell_type": "markdown",
      "metadata": {
        "id": "WbFd2iNMLdMk"
      },
      "source": [
        "### **測試環境**"
      ]
    },
    {
      "cell_type": "code",
      "metadata": {
        "id": "8nj5sjsk15IT"
      },
      "source": [
        "observation = env.reset()\n",
        "reward = 0\n",
        "while True:\n",
        "  \n",
        "    env.render()\n",
        "        \n",
        "    action = env.action_space.sample() #隨機sample做測試\n",
        "         \n",
        "    observation, rewards, done, info = env.step(action) \n",
        "    reward += rewards\n",
        "        \n",
        "    if done: \n",
        "      break;\n",
        "\n",
        "print(reward)  \n",
        "env.close()\n",
        "show_video()"
      ],
      "execution_count": null,
      "outputs": []
    },
    {
      "cell_type": "markdown",
      "metadata": {
        "id": "pbSmNa-1LqSI"
      },
      "source": [
        "# **訓練**"
      ]
    },
    {
      "cell_type": "markdown",
      "metadata": {
        "id": "gQCpZq_xLqPq"
      },
      "source": [
        ""
      ]
    },
    {
      "cell_type": "code",
      "metadata": {
        "id": "KqNGAuQt3WYm"
      },
      "source": [
        "env = wrap_env(gym.make(game))\n",
        "env = DummyVecEnv([lambda: env])\n",
        "model = DQN('MlpPolicy', game, verbose=1) # 使用DQN module"
      ],
      "execution_count": null,
      "outputs": []
    },
    {
      "cell_type": "code",
      "metadata": {
        "id": "XTEwok9O3WZ_"
      },
      "source": [
        "model.learn(total_timesteps=1000000) #訓練step數目"
      ],
      "execution_count": null,
      "outputs": []
    },
    {
      "cell_type": "code",
      "metadata": {
        "id": "1Kj6SNiC3Wfa"
      },
      "source": [
        "#evaluate_policy(model, env, n_eval_episodes=10, render=True)\n",
        "#env.close()\n",
        "env.close()"
      ],
      "execution_count": null,
      "outputs": []
    },
    {
      "cell_type": "markdown",
      "metadata": {
        "id": "aiRXG3yXLuJZ"
      },
      "source": [
        "# **儲存模型**"
      ]
    },
    {
      "cell_type": "code",
      "metadata": {
        "id": "n2XWxi7z3WpV"
      },
      "source": [
        "model.save(\"/content/drive/MyDrive/deep reinforcement learning/colab/DQN_model\") #雲端硬碟路徑"
      ],
      "execution_count": null,
      "outputs": []
    },
    {
      "cell_type": "code",
      "metadata": {
        "id": "1WcnVpNP4ELc"
      },
      "source": [
        "del model"
      ],
      "execution_count": null,
      "outputs": []
    },
    {
      "cell_type": "markdown",
      "metadata": {
        "id": "SiUN2t49FJP0"
      },
      "source": [
        "# **測試**"
      ]
    },
    {
      "cell_type": "code",
      "metadata": {
        "id": "L71gysaL4EIY"
      },
      "source": [
        "model = DQN.load(\"/content/drive/MyDrive/deep reinforcement learning/colab/DQN_model\", env=env) #雲端硬碟路徑"
      ],
      "execution_count": null,
      "outputs": []
    },
    {
      "cell_type": "code",
      "metadata": {
        "id": "BqxRsf3M4Knh"
      },
      "source": [
        "#env.close()\n",
        "env = wrap_env(gym.make(game))\n",
        "obs = env.reset() #reset\n",
        "done = False\n",
        "reward = 0\n",
        "while not done:\n",
        "    action, _states = model.predict(obs)\n",
        "    obs, rewards, done, info = env.step(action)\n",
        "    reward+=rewards\n",
        "    env.render()\n",
        "    \n",
        "print(\"reward = \",reward)\n",
        "\n",
        "env.close()\n"
      ],
      "execution_count": null,
      "outputs": []
    },
    {
      "cell_type": "code",
      "metadata": {
        "id": "-oqsxTVY4D6h"
      },
      "source": [
        "show_video()"
      ],
      "execution_count": null,
      "outputs": []
    },
    {
      "cell_type": "markdown",
      "source": [
        "#**訓練結果**"
      ],
      "metadata": {
        "id": "eLeAobTfo_jx"
      }
    },
    {
      "cell_type": "markdown",
      "source": [
        "![image.png](data:image/png;base64,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)"
      ],
      "metadata": {
        "id": "AIdKySgjo1Pt"
      }
    },
    {
      "cell_type": "markdown",
      "source": [
        "![image.png](data:image/png;base64,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)"
      ],
      "metadata": {
        "id": "UqIwAIPKpRXf"
      }
    },
    {
      "cell_type": "markdown",
      "source": [
        "沒訓練的時候通常 reward = -500\n",
        "最高reward是0\n",
        "在碰到目標現之前reward會-1累計"
      ],
      "metadata": {
        "id": "e6JnNImnpce_"
      }
    }
  ]
}