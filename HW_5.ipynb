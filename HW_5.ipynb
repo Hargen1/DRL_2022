{
  "nbformat": 4,
  "nbformat_minor": 0,
  "metadata": {
    "colab": {
      "name": "「LunarLander_in_Colaboratory_ipynb」的副本.ipynb",
      "private_outputs": true,
      "provenance": [],
      "collapsed_sections": []
    },
    "kernelspec": {
      "name": "python3",
      "display_name": "Python 3"
    },
    "accelerator": "GPU",
    "gpuClass": "standard"
  },
  "cells": [
    {
      "cell_type": "markdown",
      "metadata": {
        "id": "SsRAs0r2LM4F"
      },
      "source": [
        "# **掛載雲端**"
      ]
    },
    {
      "cell_type": "code",
      "metadata": {
        "id": "_Palgjg3BtPF"
      },
      "source": [
        "from google.colab import drive\n",
        "drive.mount('/content/drive')"
      ],
      "execution_count": null,
      "outputs": []
    },
    {
      "cell_type": "markdown",
      "metadata": {
        "id": "FXrloB99LV00"
      },
      "source": [
        "# **安裝相關套件**"
      ]
    },
    {
      "cell_type": "code",
      "metadata": {
        "id": "8-AxnvAVyzQQ"
      },
      "source": [
        "#remove \" > /dev/null 2>&1\" to see what is going on under the hood\n",
        "!pip install gym pyvirtualdisplay > /dev/null 2>&1\n",
        "!apt-get install -y xvfb python-opengl ffmpeg > /dev/null 2>&1"
      ],
      "execution_count": null,
      "outputs": []
    },
    {
      "cell_type": "code",
      "metadata": {
        "id": "d2CE3TOS1ij3"
      },
      "source": [
        "!pip install stable_baselines3 gym box2d-py tensorflow-gpu"
      ],
      "execution_count": null,
      "outputs": []
    },
    {
      "cell_type": "markdown",
      "metadata": {
        "id": "APXSx7hg19TH"
      },
      "source": [
        "# Imports and Helper functions\n"
      ]
    },
    {
      "cell_type": "code",
      "metadata": {
        "id": "pdb2JwZy4jGj"
      },
      "source": [
        "import gym\n",
        "from gym import logger as gymlogger\n",
        "from gym.wrappers import Monitor\n",
        "gymlogger.set_level(40) #error only\n",
        "import tensorflow as tf\n",
        "import numpy as np\n",
        "import random\n",
        "import matplotlib\n",
        "import matplotlib.pyplot as plt\n",
        "%matplotlib inline\n",
        "import math\n",
        "import glob\n",
        "import io\n",
        "import base64\n",
        "from IPython.display import HTML\n",
        "\n",
        "from IPython import display as ipythondisplay"
      ],
      "execution_count": null,
      "outputs": []
    },
    {
      "cell_type": "code",
      "metadata": {
        "id": "nQEtc28G4niA"
      },
      "source": [
        "from pyvirtualdisplay import Display\n",
        "display = Display(visible=0, size=(1400, 900))\n",
        "display.start()"
      ],
      "execution_count": null,
      "outputs": []
    },
    {
      "cell_type": "code",
      "metadata": {
        "id": "3Vg5Iing2oXX"
      },
      "source": [
        "from stable_baselines3 import PPO\n",
        "from stable_baselines3.common.vec_env import DummyVecEnv\n",
        "from stable_baselines3.common.evaluation import evaluate_policy"
      ],
      "execution_count": null,
      "outputs": []
    },
    {
      "cell_type": "code",
      "metadata": {
        "id": "G9UWeToN4r7D"
      },
      "source": [
        "\"\"\"\n",
        "Utility functions to enable video recording of gym environment and displaying it\n",
        "To enable video, just do \"env = wrap_env(env)\"\"\n",
        "\"\"\"\n",
        "game = \"BipedalWalker-v3\" #遊戲種類\n",
        "def show_video(): #顯示訓練結果\n",
        "  mp4list = glob.glob('video/*.mp4')\n",
        "  if len(mp4list) > 0:\n",
        "    mp4 = mp4list[0]\n",
        "    video = io.open(mp4, 'r+b').read()\n",
        "    encoded = base64.b64encode(video)\n",
        "    ipythondisplay.display(HTML(data='''<video alt=\"test\" autoplay \n",
        "                loop controls style=\"height: 400px;\">\n",
        "                <source src=\"data:video/mp4;base64,{0}\" type=\"video/mp4\" />\n",
        "             </video>'''.format(encoded.decode('ascii'))))\n",
        "  else: \n",
        "    print(\"Could not find video\")\n",
        "    \n",
        "\n",
        "def wrap_env(env):\n",
        "  env = Monitor(env, './video', force=True)\n",
        "  return env"
      ],
      "execution_count": null,
      "outputs": []
    },
    {
      "cell_type": "code",
      "metadata": {
        "id": "dGEFMfDOzLen"
      },
      "source": [
        "env = wrap_env(gym.make(game))"
      ],
      "execution_count": null,
      "outputs": []
    },
    {
      "cell_type": "code",
      "metadata": {
        "id": "7BmIlXhe9Q89"
      },
      "source": [
        "print(env.action_space) #action space"
      ],
      "execution_count": null,
      "outputs": []
    },
    {
      "cell_type": "markdown",
      "metadata": {
        "id": "WbFd2iNMLdMk"
      },
      "source": [
        "### **測試環境**"
      ]
    },
    {
      "cell_type": "code",
      "metadata": {
        "id": "8nj5sjsk15IT"
      },
      "source": [
        "observation = env.reset()\n",
        "reward = 0\n",
        "while True:\n",
        "  \n",
        "    env.render()\n",
        "        \n",
        "    action = env.action_space.sample() #隨機sample做測試\n",
        "         \n",
        "    observation, rewards, done, info = env.step(action) \n",
        "    reward += rewards\n",
        "        \n",
        "    if done: \n",
        "      break;\n",
        "\n",
        "print(reward)  \n",
        "env.close()\n",
        "show_video()"
      ],
      "execution_count": null,
      "outputs": []
    },
    {
      "cell_type": "markdown",
      "metadata": {
        "id": "pbSmNa-1LqSI"
      },
      "source": [
        "# **訓練**"
      ]
    },
    {
      "cell_type": "markdown",
      "metadata": {
        "id": "gQCpZq_xLqPq"
      },
      "source": [
        ""
      ]
    },
    {
      "cell_type": "code",
      "metadata": {
        "id": "KqNGAuQt3WYm"
      },
      "source": [
        "env = wrap_env(gym.make(game))\n",
        "env = DummyVecEnv([lambda: env])\n",
        "model = PPO('MlpPolicy', env, verbose = 1)"
      ],
      "execution_count": null,
      "outputs": []
    },
    {
      "cell_type": "code",
      "metadata": {
        "id": "XTEwok9O3WZ_"
      },
      "source": [
        "model.learn(total_timesteps=500000) #訓練step數目"
      ],
      "execution_count": null,
      "outputs": []
    },
    {
      "cell_type": "code",
      "metadata": {
        "id": "1Kj6SNiC3Wfa"
      },
      "source": [
        "#evaluate_policy(model, env, n_eval_episodes=10, render=True)\n",
        "#env.close()\n",
        "env.close()"
      ],
      "execution_count": null,
      "outputs": []
    },
    {
      "cell_type": "markdown",
      "metadata": {
        "id": "aiRXG3yXLuJZ"
      },
      "source": [
        "# **儲存模型**"
      ]
    },
    {
      "cell_type": "code",
      "metadata": {
        "id": "n2XWxi7z3WpV"
      },
      "source": [
        "model.save(\"/content/drive/MyDrive/deep reinforcement learning/colab/PPO_model\") #雲端硬碟路徑"
      ],
      "execution_count": null,
      "outputs": []
    },
    {
      "cell_type": "code",
      "metadata": {
        "id": "1WcnVpNP4ELc"
      },
      "source": [
        "del model"
      ],
      "execution_count": null,
      "outputs": []
    },
    {
      "cell_type": "markdown",
      "metadata": {
        "id": "SiUN2t49FJP0"
      },
      "source": [
        "# **測試**"
      ]
    },
    {
      "cell_type": "code",
      "metadata": {
        "id": "L71gysaL4EIY"
      },
      "source": [
        "model = PPO.load(\"/content/drive/MyDrive/deep reinforcement learning/colab/PPO_model\", env=env) #雲端硬碟路徑"
      ],
      "execution_count": null,
      "outputs": []
    },
    {
      "cell_type": "code",
      "metadata": {
        "id": "BqxRsf3M4Knh"
      },
      "source": [
        "#env.close()\n",
        "env = wrap_env(gym.make(game))\n",
        "obs = env.reset() #reset\n",
        "done = False\n",
        "reward = 0\n",
        "while not done:\n",
        "    action, _states = model.predict(obs.copy())\n",
        "    obs, rewards, done, info = env.step(action)\n",
        "    reward+=rewards\n",
        "    env.render()\n",
        "    \n",
        "print(reward)\n",
        "\n",
        "env.close()\n"
      ],
      "execution_count": null,
      "outputs": []
    },
    {
      "cell_type": "code",
      "metadata": {
        "id": "-oqsxTVY4D6h"
      },
      "source": [
        "show_video()"
      ],
      "execution_count": null,
      "outputs": []
    }
  ]
}
